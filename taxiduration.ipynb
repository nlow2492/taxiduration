{
 "cells": [
  {
   "cell_type": "markdown",
   "metadata": {},
   "source": [
    "# Kaggle Supervised Regression Machine Learning Problem\n",
    "## Project: New York City Taxi Trip Duration"
   ]
  },
  {
   "cell_type": "code",
   "execution_count": 1,
   "metadata": {
    "collapsed": false
   },
   "outputs": [
    {
     "name": "stdout",
     "output_type": "stream",
     "text": [
      "Training dataset has 1458644 rows of data with 11 variables each.\n",
      "Testing dataset has 625134 rows of data with 9 variables each.\n"
     ]
    }
   ],
   "source": [
    "#Author: Nicholas Low\n",
    "#Date 12/3/2017\n",
    "\n",
    "import numpy as np\n",
    "import pandas as pd\n",
    "import matplotlib.pyplot as plt\n",
    "from sklearn import model_selection\n",
    "from sklearn.ensemble import RandomForestRegressor\n",
    "from sklearn.ensemble import AdaBoostRegressor\n",
    "from datetime import datetime\n",
    "from datetime import date\n",
    "import xgboost as xgb\n",
    "\n",
    "def rmsle(h, y): \n",
    "    \"\"\"\n",
    "    Compute the Root Mean Squared Log Error for hypthesis h and targets y\n",
    "\n",
    "    Args:\n",
    "        h - numpy array containing predictions with shape (n_samples, n_targets)\n",
    "        y - numpy array containing targets with shape (n_samples, n_targets)\n",
    "    \"\"\"\n",
    "    return np.sqrt(np.square(np.log(h + 1) - np.log(y + 1)).mean())\n",
    "\n",
    "test_df = pd.read_csv('Data/test.csv')\n",
    "train_df = pd.read_csv('Data/train.csv')\n",
    "\n",
    "print \"Training dataset has {} rows of data with {} variables each.\".format(*train_df.shape)\n",
    "print \"Testing dataset has {} rows of data with {} variables each.\".format(*test_df.shape)"
   ]
  },
  {
   "cell_type": "code",
   "execution_count": 2,
   "metadata": {
    "collapsed": false
   },
   "outputs": [
    {
     "data": {
      "text/html": [
       "<div>\n",
       "<table border=\"1\" class=\"dataframe\">\n",
       "  <thead>\n",
       "    <tr style=\"text-align: right;\">\n",
       "      <th></th>\n",
       "      <th>id</th>\n",
       "      <th>vendor_id</th>\n",
       "      <th>pickup_datetime</th>\n",
       "      <th>dropoff_datetime</th>\n",
       "      <th>passenger_count</th>\n",
       "      <th>pickup_longitude</th>\n",
       "      <th>pickup_latitude</th>\n",
       "      <th>dropoff_longitude</th>\n",
       "      <th>dropoff_latitude</th>\n",
       "      <th>store_and_fwd_flag</th>\n",
       "      <th>trip_duration</th>\n",
       "    </tr>\n",
       "  </thead>\n",
       "  <tbody>\n",
       "    <tr>\n",
       "      <th>0</th>\n",
       "      <td>id2875421</td>\n",
       "      <td>2</td>\n",
       "      <td>2016-03-14 17:24:55</td>\n",
       "      <td>2016-03-14 17:32:30</td>\n",
       "      <td>1</td>\n",
       "      <td>-73.982155</td>\n",
       "      <td>40.767937</td>\n",
       "      <td>-73.964630</td>\n",
       "      <td>40.765602</td>\n",
       "      <td>N</td>\n",
       "      <td>455</td>\n",
       "    </tr>\n",
       "    <tr>\n",
       "      <th>1</th>\n",
       "      <td>id2377394</td>\n",
       "      <td>1</td>\n",
       "      <td>2016-06-12 00:43:35</td>\n",
       "      <td>2016-06-12 00:54:38</td>\n",
       "      <td>1</td>\n",
       "      <td>-73.980415</td>\n",
       "      <td>40.738564</td>\n",
       "      <td>-73.999481</td>\n",
       "      <td>40.731152</td>\n",
       "      <td>N</td>\n",
       "      <td>663</td>\n",
       "    </tr>\n",
       "    <tr>\n",
       "      <th>2</th>\n",
       "      <td>id3858529</td>\n",
       "      <td>2</td>\n",
       "      <td>2016-01-19 11:35:24</td>\n",
       "      <td>2016-01-19 12:10:48</td>\n",
       "      <td>1</td>\n",
       "      <td>-73.979027</td>\n",
       "      <td>40.763939</td>\n",
       "      <td>-74.005333</td>\n",
       "      <td>40.710087</td>\n",
       "      <td>N</td>\n",
       "      <td>2124</td>\n",
       "    </tr>\n",
       "    <tr>\n",
       "      <th>3</th>\n",
       "      <td>id3504673</td>\n",
       "      <td>2</td>\n",
       "      <td>2016-04-06 19:32:31</td>\n",
       "      <td>2016-04-06 19:39:40</td>\n",
       "      <td>1</td>\n",
       "      <td>-74.010040</td>\n",
       "      <td>40.719971</td>\n",
       "      <td>-74.012268</td>\n",
       "      <td>40.706718</td>\n",
       "      <td>N</td>\n",
       "      <td>429</td>\n",
       "    </tr>\n",
       "    <tr>\n",
       "      <th>4</th>\n",
       "      <td>id2181028</td>\n",
       "      <td>2</td>\n",
       "      <td>2016-03-26 13:30:55</td>\n",
       "      <td>2016-03-26 13:38:10</td>\n",
       "      <td>1</td>\n",
       "      <td>-73.973053</td>\n",
       "      <td>40.793209</td>\n",
       "      <td>-73.972923</td>\n",
       "      <td>40.782520</td>\n",
       "      <td>N</td>\n",
       "      <td>435</td>\n",
       "    </tr>\n",
       "  </tbody>\n",
       "</table>\n",
       "</div>"
      ],
      "text/plain": [
       "          id  vendor_id      pickup_datetime     dropoff_datetime  \\\n",
       "0  id2875421          2  2016-03-14 17:24:55  2016-03-14 17:32:30   \n",
       "1  id2377394          1  2016-06-12 00:43:35  2016-06-12 00:54:38   \n",
       "2  id3858529          2  2016-01-19 11:35:24  2016-01-19 12:10:48   \n",
       "3  id3504673          2  2016-04-06 19:32:31  2016-04-06 19:39:40   \n",
       "4  id2181028          2  2016-03-26 13:30:55  2016-03-26 13:38:10   \n",
       "\n",
       "   passenger_count  pickup_longitude  pickup_latitude  dropoff_longitude  \\\n",
       "0                1        -73.982155        40.767937         -73.964630   \n",
       "1                1        -73.980415        40.738564         -73.999481   \n",
       "2                1        -73.979027        40.763939         -74.005333   \n",
       "3                1        -74.010040        40.719971         -74.012268   \n",
       "4                1        -73.973053        40.793209         -73.972923   \n",
       "\n",
       "   dropoff_latitude store_and_fwd_flag  trip_duration  \n",
       "0         40.765602                  N            455  \n",
       "1         40.731152                  N            663  \n",
       "2         40.710087                  N           2124  \n",
       "3         40.706718                  N            429  \n",
       "4         40.782520                  N            435  "
      ]
     },
     "execution_count": 2,
     "metadata": {},
     "output_type": "execute_result"
    }
   ],
   "source": [
    "train_df.head()"
   ]
  },
  {
   "cell_type": "code",
   "execution_count": 3,
   "metadata": {
    "collapsed": false
   },
   "outputs": [
    {
     "name": "stdout",
     "output_type": "stream",
     "text": [
      "<class 'pandas.core.frame.DataFrame'>\n",
      "RangeIndex: 1458644 entries, 0 to 1458643\n",
      "Data columns (total 11 columns):\n",
      "id                    1458644 non-null object\n",
      "vendor_id             1458644 non-null int64\n",
      "pickup_datetime       1458644 non-null object\n",
      "dropoff_datetime      1458644 non-null object\n",
      "passenger_count       1458644 non-null int64\n",
      "pickup_longitude      1458644 non-null float64\n",
      "pickup_latitude       1458644 non-null float64\n",
      "dropoff_longitude     1458644 non-null float64\n",
      "dropoff_latitude      1458644 non-null float64\n",
      "store_and_fwd_flag    1458644 non-null object\n",
      "trip_duration         1458644 non-null int64\n",
      "dtypes: float64(4), int64(3), object(4)\n",
      "memory usage: 122.4+ MB\n"
     ]
    }
   ],
   "source": [
    "train_df.info()"
   ]
  },
  {
   "cell_type": "markdown",
   "metadata": {},
   "source": [
    "## Feature Cleaning/Imputation"
   ]
  },
  {
   "cell_type": "code",
   "execution_count": 4,
   "metadata": {
    "collapsed": false
   },
   "outputs": [
    {
     "name": "stdout",
     "output_type": "stream",
     "text": [
      "          id  vendor_id      pickup_datetime  passenger_count  \\\n",
      "0  id3004672          1  1457976295000000000                1   \n",
      "1  id3505355          1  1465692215000000000                1   \n",
      "2  id1217141          1  1453203324000000000                1   \n",
      "3  id2150126          2  1459971151000000000                1   \n",
      "4  id1598245          1  1458999055000000000                1   \n",
      "\n",
      "   pickup_longitude  pickup_latitude  dropoff_longitude  dropoff_latitude  \\\n",
      "0        -73.988129        40.732029         -73.990173         40.756680   \n",
      "1        -73.964203        40.679993         -73.959808         40.655403   \n",
      "2        -73.997437        40.737583         -73.986160         40.729523   \n",
      "3        -73.956070        40.771900         -73.986427         40.730469   \n",
      "4        -73.970215        40.761475         -73.961510         40.755890   \n",
      "\n",
      "   store_and_fwd_flag  pickup_year  pickup_month  pickup_day  pickup_hr  \\\n",
      "0                   0         2016             3          14         17   \n",
      "1                   0         2016             6          12          0   \n",
      "2                   0         2016             1          19         11   \n",
      "3                   0         2016             4           6         19   \n",
      "4                   0         2016             3          26         13   \n",
      "\n",
      "   pickup_minute  \n",
      "0             24  \n",
      "1             43  \n",
      "2             35  \n",
      "3             32  \n",
      "4             30  \n"
     ]
    }
   ],
   "source": [
    "#Not necessary in training\n",
    "train_df = train_df.drop('dropoff_datetime', axis = 1)\n",
    "\n",
    "for df in [train_df, test_df]:\n",
    "    df['pickup_datetime'] = pd.to_datetime(train_df['pickup_datetime'])\n",
    "    df['pickup_year']  = df['pickup_datetime'].dt.year\n",
    "    df['pickup_month'] = df['pickup_datetime'].dt.month\n",
    "    df['pickup_day']   = df['pickup_datetime'].dt.day\n",
    "    df['pickup_hr']    = df['pickup_datetime'].dt.hour\n",
    "    df['pickup_minute']= df['pickup_datetime'].dt.minute\n",
    "    df['store_and_fwd_flag'] = 1 * (df.store_and_fwd_flag.values == 'Y')\n",
    "    df['pickup_datetime'] = df['pickup_datetime'].astype('int64')\n",
    "    \n",
    "print test_df.head()"
   ]
  },
  {
   "cell_type": "code",
   "execution_count": 5,
   "metadata": {
    "collapsed": false
   },
   "outputs": [],
   "source": [
    "train_df = train_df.assign(log_trip_duration = np.log(train_df.trip_duration+1))"
   ]
  },
  {
   "cell_type": "code",
   "execution_count": 11,
   "metadata": {
    "collapsed": false
   },
   "outputs": [],
   "source": [
    "y = train_df['trip_duration']\n",
    "x = train_df.drop(['id','trip_duration'], axis=1)\n",
    "x_train, x_test, y_train, y_test = model_selection.train_test_split(x, y, test_size = .20, random_state = 0)\n",
    "x_cv,x_v,y_cv,y_v = model_selection.train_test_split(x_test, y_test, test_size=0.5, random_state=1)"
   ]
  },
  {
   "cell_type": "code",
   "execution_count": null,
   "metadata": {
    "collapsed": false
   },
   "outputs": [],
   "source": [
    "n_trees = 20\n",
    "max_feat = 5\n",
    "kfold = model_selection.KFold(n_splits = 10, random_state = 2)\n",
    "r_model = RandomForestRegressor(n_estimators = n_trees, max_features = max_feat)\n",
    "r_model.fit(x_train, y_train)\n",
    "results = model_selection.cross_val_score(r_model, x_test, y_test)"
   ]
  },
  {
   "cell_type": "code",
   "execution_count": null,
   "metadata": {
    "collapsed": false
   },
   "outputs": [],
   "source": [
    "print results\n",
    "predictions = r_model.predict(x_test)\n",
    "print predictions.round()\n",
    "print rmsle(predictions.round(), y_test)"
   ]
  },
  {
   "cell_type": "code",
   "execution_count": 12,
   "metadata": {
    "collapsed": false
   },
   "outputs": [
    {
     "name": "stdout",
     "output_type": "stream",
     "text": [
      "[0]\ttrain-rmse:3960.49\tvalid-rmse:9323.56\n",
      "Multiple eval metrics have been passed: 'valid-rmse' will be used for early stopping.\n",
      "\n",
      "Will train until valid-rmse hasn't improved in 30 rounds.\n",
      "[100]\ttrain-rmse:2358.17\tvalid-rmse:7440.64\n",
      "Stopping. Best iteration:\n",
      "[109]\ttrain-rmse:2360.23\tvalid-rmse:7336.03\n",
      "\n"
     ]
    }
   ],
   "source": [
    "data_tr  = xgb.DMatrix(x_train, label=y_train)\n",
    "data_cv  = xgb.DMatrix(x_cv   , label=y_cv)\n",
    "evallist = [(data_tr, 'train'), (data_cv, 'valid')]\n",
    "parms = {'max_depth':8, #maximum depth of a tree\n",
    "         'objective':'reg:linear',\n",
    "         'eta'      :0.3,\n",
    "         'subsample':0.8,#SGD will use this percentage of data\n",
    "         'lambda '  :4, #L2 regularization term,>1 more conservative \n",
    "         'colsample_bytree ':0.9,\n",
    "         'colsample_bylevel':1,\n",
    "         'min_child_weight': 10,\n",
    "         'nthread'  :3}  #number of cpu core to use\n",
    "\n",
    "model = xgb.train(parms, data_tr, num_boost_round=1000, evals = evallist,\n",
    "                  early_stopping_rounds=30, maximize=False, \n",
    "                  verbose_eval=100)"
   ]
  },
  {
   "cell_type": "code",
   "execution_count": null,
   "metadata": {
    "collapsed": true
   },
   "outputs": [],
   "source": []
  }
 ],
 "metadata": {
  "anaconda-cloud": {},
  "kernelspec": {
   "display_name": "Python [conda root]",
   "language": "python",
   "name": "conda-root-py"
  },
  "language_info": {
   "codemirror_mode": {
    "name": "ipython",
    "version": 2
   },
   "file_extension": ".py",
   "mimetype": "text/x-python",
   "name": "python",
   "nbconvert_exporter": "python",
   "pygments_lexer": "ipython2",
   "version": "2.7.12"
  }
 },
 "nbformat": 4,
 "nbformat_minor": 2
}
